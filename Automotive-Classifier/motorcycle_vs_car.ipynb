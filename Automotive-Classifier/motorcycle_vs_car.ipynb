{
 "cells": [
  {
   "cell_type": "code",
   "execution_count": 3,
   "id": "96f8ed6b-4735-4e06-bcf7-501b4f26697e",
   "metadata": {},
   "outputs": [],
   "source": [
    "import pandas as pd\n",
    "\n",
    "# Step 1: Create a tiny dataset(like a table)\n",
    "\n",
    "data = {\n",
    "    'engine_cc' : [150, 200, 250, 400, 180, 1300, 1600, 2000, 2500, 1800],\n",
    "    'weight_kg' : [180, 220, 210, 250, 160, 1200, 1300, 1500, 1700, 1400],\n",
    "    'label'     : ['motorcycle', 'motorcycle', 'motorcycle', 'motorcycle', 'motorcycle', 'car', 'car', 'car', 'car', 'car']\n",
    "}\n",
    "\n",
    "\n",
    "df = pd.DataFrame(data)"
   ]
  },
  {
   "cell_type": "code",
   "execution_count": 7,
   "id": "8d842cd1-0f6b-4cb6-bb46-e95b4f42a6ee",
   "metadata": {},
   "outputs": [
    {
     "name": "stdout",
     "output_type": "stream",
     "text": [
      "   engine_cc  weight_kg       label\n",
      "0        150        180  motorcycle\n",
      "1        200        220  motorcycle\n",
      "2        250        210  motorcycle\n",
      "3        400        250  motorcycle\n",
      "4        180        160  motorcycle\n",
      "5       1300       1200         car\n",
      "6       1600       1300         car\n",
      "7       2000       1500         car\n",
      "8       2500       1700         car\n",
      "9       1800       1400         car\n"
     ]
    }
   ],
   "source": [
    "# Step 2: Show the dataset\n",
    "\n",
    "print(df)"
   ]
  },
  {
   "cell_type": "code",
   "execution_count": 8,
   "id": "a998fe20-339a-4126-b717-7bf814cdcf08",
   "metadata": {},
   "outputs": [
    {
     "name": "stdout",
     "output_type": "stream",
     "text": [
      "   engine_cc  weight_kg       label\n",
      "0        150        180  motorcycle\n",
      "1        200        220  motorcycle\n",
      "2        250        210  motorcycle\n",
      "3        400        250  motorcycle\n",
      "4        180        160  motorcycle\n"
     ]
    }
   ],
   "source": [
    "# Get the first five rows\n",
    "print(df.head(5))"
   ]
  },
  {
   "cell_type": "code",
   "execution_count": 9,
   "id": "0940deed-8f1c-45c9-91e4-ef2041835fbb",
   "metadata": {},
   "outputs": [
    {
     "name": "stdout",
     "output_type": "stream",
     "text": [
      "   engine_cc  weight_kg label\n",
      "5       1300       1200   car\n",
      "6       1600       1300   car\n",
      "7       2000       1500   car\n",
      "8       2500       1700   car\n",
      "9       1800       1400   car\n"
     ]
    }
   ],
   "source": [
    "# Get the last five rows\n",
    "print(df.tail(5))"
   ]
  },
  {
   "cell_type": "code",
   "execution_count": null,
   "id": "4be57d67-2844-4bef-a5e4-75944a39515c",
   "metadata": {},
   "outputs": [],
   "source": [
    "# Save the dataset\n",
    "\n",
    "df.to_csv(\"tiny_vehicle.csv\", index=False)"
   ]
  }
 ],
 "metadata": {
  "kernelspec": {
   "display_name": "Python 3 (ipykernel)",
   "language": "python",
   "name": "python3"
  },
  "language_info": {
   "codemirror_mode": {
    "name": "ipython",
    "version": 3
   },
   "file_extension": ".py",
   "mimetype": "text/x-python",
   "name": "python",
   "nbconvert_exporter": "python",
   "pygments_lexer": "ipython3",
   "version": "3.13.7"
  }
 },
 "nbformat": 4,
 "nbformat_minor": 5
}
